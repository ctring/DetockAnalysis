{
 "cells": [
  {
   "cell_type": "code",
   "execution_count": null,
   "metadata": {
    "execution": {
     "iopub.execute_input": "2021-12-10T23:53:20.739470Z",
     "iopub.status.busy": "2021-12-10T23:53:20.739161Z",
     "iopub.status.idle": "2021-12-10T23:53:26.714859Z",
     "shell.execute_reply": "2021-12-10T23:53:26.714016Z",
     "shell.execute_reply.started": "2021-12-10T23:53:20.739416Z"
    }
   },
   "outputs": [],
   "source": [
    "from pyspark.sql import SparkSession\n",
    "\n",
    "spark = SparkSession.builder\\\n",
    "    .config(\"spark.driver.memory\", \"16g\")\\\n",
    "    .getOrCreate()\n",
    "\n",
    "spark"
   ]
  },
  {
   "cell_type": "code",
   "execution_count": null,
   "metadata": {
    "execution": {
     "iopub.execute_input": "2021-12-10T23:53:26.716222Z",
     "iopub.status.busy": "2021-12-10T23:53:26.715994Z",
     "iopub.status.idle": "2021-12-10T23:53:27.525230Z",
     "shell.execute_reply": "2021-12-10T23:53:27.524234Z",
     "shell.execute_reply.started": "2021-12-10T23:53:26.716201Z"
    }
   },
   "outputs": [],
   "source": [
    "%load_ext autoreload\n",
    "%autoreload 2\n",
    "\n",
    "import matplotlib.pyplot as plt\n",
    "import pandas as pd\n",
    "import pyspark.sql.functions as F\n",
    "import pyspark.sql.types as T\n",
    "\n",
    "from pyspark.sql.functions import col, lit\n",
    "\n",
    "from common import *\n",
    "\n",
    "plt.rc('axes', labelsize=18, titlesize=18)\n",
    "plt.rc('xtick', labelsize=15)\n",
    "plt.rc('ytick', labelsize=15)\n",
    "plt.rc('legend', fontsize=15)"
   ]
  },
  {
   "cell_type": "code",
   "execution_count": null,
   "metadata": {
    "execution": {
     "iopub.execute_input": "2021-12-11T00:35:45.829241Z",
     "iopub.status.busy": "2021-12-11T00:35:45.828946Z",
     "iopub.status.idle": "2021-12-11T00:35:45.842724Z",
     "shell.execute_reply": "2021-12-11T00:35:45.841825Z",
     "shell.execute_reply.started": "2021-12-11T00:35:45.829206Z"
    }
   },
   "outputs": [],
   "source": [
    "def get_index(prefix):\n",
    "    client_sdf = spark.read.csv(f\"{prefix}/*/client/0/metadata.csv\", header=True)\\\n",
    "        .withColumn(\n",
    "            \"prefix\",\n",
    "            ancestor_udf(F.input_file_name(), lit(3))\n",
    "        )\n",
    "\n",
    "    server_sdf = spark.read.csv(f\"{prefix}/*/server/0-0/metadata.csv\", header=True)\\\n",
    "        .withColumn(\n",
    "            \"prefix\",\n",
    "            ancestor_udf(F.input_file_name(), lit(3))\n",
    "        )\n",
    "\n",
    "    return server_sdf.join(client_sdf, on='prefix')\\\n",
    "        .withColumn(\"duration\", col(\"duration\").cast(T.IntegerType()))\\\n",
    "        .withColumn(\"txns\", col(\"txns\").cast(T.IntegerType()))\\\n",
    "        .withColumn(\"clients\", col(\"clients\").cast(T.IntegerType()))\\\n",
    "        .withColumn(\"rate\", col(\"rate\").cast(T.IntegerType()))\\\n",
    "        .withColumn(\"jitter\", F.regexp_extract(\"prefix\", r\"jitter(\\d+)\", 1))"
   ]
  },
  {
   "cell_type": "code",
   "execution_count": null,
   "metadata": {
    "execution": {
     "iopub.execute_input": "2021-12-11T00:35:46.473296Z",
     "iopub.status.busy": "2021-12-11T00:35:46.473019Z",
     "iopub.status.idle": "2021-12-11T00:35:46.784419Z",
     "shell.execute_reply": "2021-12-11T00:35:46.783491Z",
     "shell.execute_reply.started": "2021-12-11T00:35:46.473276Z"
    }
   },
   "outputs": [],
   "source": [
    "PREFIX = \"main/ycsb-jitter\"\n",
    "\n",
    "IGNORE_CACHE = False\n",
    "\n",
    "index_sdf = get_index(PREFIX)\\\n",
    "    .withColumn(\"config_name\", F.regexp_replace(\"config_name\", \"\\.conf\", \"\"))\n",
    "\n",
    "index_df = from_cache_or_compute(\n",
    "    f'{PREFIX}/index.parquet',\n",
    "    lambda: index_sdf\\\n",
    "        .toPandas()\\\n",
    "        .convert_dtypes()\\\n",
    "        .astype({\n",
    "            \"wl:hot\": \"int32\",\n",
    "            \"wl:mh\": \"int32\",\n",
    "            \"wl:mp\": \"int32\",\n",
    "        }),\n",
    "    ignore_cache=IGNORE_CACHE,\n",
    ")\n",
    "\n",
    "index_df"
   ]
  },
  {
   "cell_type": "code",
   "execution_count": null,
   "metadata": {},
   "outputs": [],
   "source": [
    "PREFIX_OVERSHOOT10 = \"main/ycsb-jitter-overshoot10\"\n",
    "\n",
    "IGNORE_CACHE = False\n",
    "\n",
    "index_overshoot10_sdf = get_index(PREFIX_OVERSHOOT10)\\\n",
    "    .withColumn(\"config_name\", F.regexp_replace(\"config_name\", \"\\.conf\", \"\"))\n",
    "\n",
    "index_overshoot10_df = from_cache_or_compute(\n",
    "    f'{PREFIX_OVERSHOOT10}/index.parquet',\n",
    "    lambda: index_overshoot10_sdf\\\n",
    "        .toPandas()\\\n",
    "        .convert_dtypes()\\\n",
    "        .astype({\n",
    "            \"wl:hot\": \"int32\",\n",
    "            \"wl:mh\": \"int32\",\n",
    "            \"wl:mp\": \"int32\",\n",
    "        }),\n",
    "    ignore_cache=IGNORE_CACHE,\n",
    ")\n",
    "\n",
    "index_overshoot10_df"
   ]
  },
  {
   "cell_type": "markdown",
   "metadata": {},
   "source": [
    "# Throughput"
   ]
  },
  {
   "cell_type": "code",
   "execution_count": null,
   "metadata": {
    "execution": {
     "iopub.execute_input": "2021-12-11T00:36:37.971854Z",
     "iopub.status.busy": "2021-12-11T00:36:37.971594Z",
     "iopub.status.idle": "2021-12-11T00:36:46.938710Z",
     "shell.execute_reply": "2021-12-11T00:36:46.937589Z",
     "shell.execute_reply.started": "2021-12-11T00:36:37.971833Z"
    }
   },
   "outputs": [],
   "source": [
    "IGNORE_CACHE = False\n",
    "\n",
    "def compute_throughput(prefix):\n",
    "    res = throughput(\n",
    "        spark,\n",
    "        prefix,\n",
    "        start_offset_sec=5,\n",
    "        duration_sec=50\n",
    "    ).first().throughput\n",
    "    print(prefix, res)\n",
    "    return res\n",
    "\n",
    "    \n",
    "def compute_all_throughputs(index_sdf):\n",
    "    # Extract all prefixes in the index\n",
    "    throughput_df = index_sdf.select(\"prefix\").toPandas()\n",
    "    # Compute the throughput of each prefix\n",
    "    throughput_df[\"throughput\"] = throughput_df.apply(lambda r : compute_throughput(r[\"prefix\"]), axis=1)\n",
    "    # Associate metadata from the index to the throughputs\n",
    "    return throughput_df.merge(index_sdf.toPandas(), on=\"prefix\")\n",
    "\n",
    "\n",
    "throughput_df = from_cache_or_compute(\n",
    "    f'{PREFIX}/throughput.parquet',\n",
    "    lambda: compute_all_throughputs(get_index(PREFIX).where(col(\"clients\") == 3000))\\\n",
    "        .sort_values(\"jitter\", key=lambda k: k.astype(\"int\")),\n",
    "    ignore_cache=IGNORE_CACHE,\n",
    ")\n",
    "throughput_df[\"throughput\"] /= 1000\n",
    "\n",
    "throughput_overshoot10_df = from_cache_or_compute(\n",
    "    f'{PREFIX_OVERSHOOT10}/throughput.parquet',\n",
    "    lambda: compute_all_throughputs(get_index(PREFIX_OVERSHOOT10).where(col(\"clients\") == 3000))\\\n",
    "        .sort_values(\"jitter\", key=lambda k: k.astype(\"int\")),\n",
    "    ignore_cache=IGNORE_CACHE,\n",
    ")\n",
    "throughput_overshoot10_df[\"throughput\"] /= 1000"
   ]
  },
  {
   "cell_type": "markdown",
   "metadata": {},
   "source": [
    "# Deadlocks"
   ]
  },
  {
   "cell_type": "code",
   "execution_count": null,
   "metadata": {},
   "outputs": [],
   "source": [
    "def get_deadlocks(thrp_df):\n",
    "    deadlocks_df = thrp_df[[\"prefix\", \"jitter\"]].copy()\n",
    "    deadlocks_df[\"deadlock_cnt\"] = 0\n",
    "    deadlocks_df[\"deadlock_sz\"] = 0\n",
    "\n",
    "    for i, row in deadlocks_df.iterrows():\n",
    "        sdf = deadlocks_csv(spark, row.prefix).where(col(\"replica\") == 0)\n",
    "        deadlocks_df.at[i, \"deadlock_cnt\"] = sdf.count()\n",
    "        deadlocks_df.at[i, \"deadlock_sz\"] = sdf.agg({\"vertices\": \"sum\"}).collect()[0][0]\n",
    "\n",
    "    return deadlocks_df"
   ]
  },
  {
   "cell_type": "code",
   "execution_count": null,
   "metadata": {},
   "outputs": [],
   "source": [
    "IGNORE_CACHE = False\n",
    "\n",
    "deadlocks_df = from_cache_or_compute(\n",
    "    f'{PREFIX}/deadlocks.parquet',\n",
    "    lambda: get_deadlocks(throughput_df),\n",
    "    ignore_cache=IGNORE_CACHE,\n",
    ")\n",
    "\n",
    "fig, ax = plt.subplots(1, 1, figsize=(5, 5))\n",
    "deadlocks_df[\"deadlock_sz\"] /= 1000\n",
    "deadlocks_df.plot.bar(x=\"jitter\", y=\"deadlock_sz\", rot=0, ax=ax, legend=True, fill=False, hatch='/', label='size')\n",
    "ax.legend(loc=\"upper left\")\n",
    "ax.set_xlabel(\"jitter (ms)\")\n",
    "ax.set_ylabel(\"total size (thousands)\")\n",
    "ax.set_ylim([0, 300])\n",
    "ax.grid(axis='y')\n",
    "\n",
    "ax2 = ax.twinx()\n",
    "deadlocks_df.plot(x=\"jitter\", y=\"deadlock_cnt\", rot=0, ax=ax2, marker='.', color='red', label='count')\n",
    "ax2.legend(loc=\"upper left\", bbox_to_anchor=(0, 0.88))\n",
    "ax2.set_ylabel(\"count\")\n",
    "ax2.set_ylim([0, 1400])\n",
    "\n",
    "fig.tight_layout()\n",
    "fig.savefig('output/jitter-deadlocks.pdf')\n"
   ]
  },
  {
   "cell_type": "code",
   "execution_count": null,
   "metadata": {},
   "outputs": [],
   "source": [
    "IGNORE_CACHE=False\n",
    "\n",
    "deadlocks_overshoot10_df = from_cache_or_compute(\n",
    "    f'{PREFIX_OVERSHOOT10}/deadlocks.parquet',\n",
    "    lambda: get_deadlocks(throughput_overshoot10_df),\n",
    "    ignore_cache=IGNORE_CACHE,\n",
    ")\n",
    "\n",
    "fig, ax = plt.subplots(1, 1, figsize=(5, 5))\n",
    "deadlocks_overshoot10_df['deadlock_sz'] /= 1000\n",
    "deadlocks_overshoot10_df.plot.bar(x=\"jitter\", y=\"deadlock_sz\", rot=0, ax=ax, legend=False, fill=False, hatch='/', label='size')\n",
    "ax.legend(loc=\"upper left\")\n",
    "ax.set_xlabel(\"jitter (ms)\")\n",
    "ax.set_ylabel(\"total size (thousands)\")\n",
    "ax.set_ylim([0, 300])\n",
    "ax.grid(axis='y')\n",
    "\n",
    "ax2 = ax.twinx()\n",
    "deadlocks_overshoot10_df.plot(x=\"jitter\", y=\"deadlock_cnt\", rot=0, ax=ax2, marker='.', color='red', label='count')\n",
    "ax2.legend(loc=\"upper left\", bbox_to_anchor=(0, 0.88))\n",
    "ax2.set_ylabel(\"count\")\n",
    "ax2.set_ylim([0, 1400])\n",
    "\n",
    "fig.tight_layout()\n",
    "fig.savefig('output/jitter-deadlocks-overshoot10.pdf')"
   ]
  },
  {
   "cell_type": "markdown",
   "metadata": {},
   "source": [
    "# Latency"
   ]
  },
  {
   "cell_type": "code",
   "execution_count": null,
   "metadata": {},
   "outputs": [],
   "source": [
    "percentile_cols = [\n",
    "    F.percentile_approx(\"latency\", 0.5).alias(\"p50\"),\n",
    "    F.percentile_approx(\"latency\", 0.90).alias(\"p90\"),\n",
    "    F.percentile_approx(\"latency\", 0.95).alias(\"p95\"),\n",
    "    F.percentile_approx(\"latency\", 0.99).alias(\"p99\"),\n",
    "]\n",
    "\n",
    "latency_sdf = latency(spark,\n",
    "    map(\n",
    "        lambda r : r[\"prefix\"],\n",
    "        index_sdf.select(\"prefix\").collect()\n",
    "    ))\\\n",
    "        .groupBy(\"prefix\")\\\n",
    "        .agg(*percentile_cols).cache()\n",
    "\n",
    "latency_overshoot10_sdf = latency(spark,\n",
    "    map(\n",
    "        lambda r : r[\"prefix\"],\n",
    "        index_overshoot10_sdf.select(\"prefix\").collect()\n",
    "    ))\\\n",
    "        .groupBy(\"prefix\")\\\n",
    "        .agg(*percentile_cols).cache()"
   ]
  },
  {
   "cell_type": "code",
   "execution_count": null,
   "metadata": {},
   "outputs": [],
   "source": [
    "IGNORE_CACHE = False\n",
    "\n",
    "latency_df = from_cache_or_compute(\n",
    "    f'{PREFIX}/latency.parquet',\n",
    "    lambda: latency_sdf.toPandas().merge(index_df, on=\"prefix\")\\\n",
    "        .sort_values(\"jitter\", key=lambda k: k.astype('int')),\n",
    "    ignore_cache=IGNORE_CACHE,\n",
    ")\n",
    "\n",
    "latency_overshoot10_df = from_cache_or_compute(\n",
    "    f'{PREFIX_OVERSHOOT10}/latency.parquet',\n",
    "    lambda: latency_overshoot10_sdf.toPandas().merge(index_overshoot10_df, on=\"prefix\")\\\n",
    "        .sort_values(\"jitter\", key=lambda k: k.astype('int')),\n",
    "    ignore_cache=IGNORE_CACHE,\n",
    ")"
   ]
  },
  {
   "cell_type": "code",
   "execution_count": null,
   "metadata": {
    "execution": {
     "iopub.execute_input": "2021-12-11T00:37:04.208405Z",
     "iopub.status.busy": "2021-12-11T00:37:04.208138Z",
     "iopub.status.idle": "2021-12-11T00:37:04.858229Z",
     "shell.execute_reply": "2021-12-11T00:37:04.857110Z",
     "shell.execute_reply.started": "2021-12-11T00:37:04.208386Z"
    }
   },
   "outputs": [],
   "source": [
    "latency_200_sdf = latency(spark,\n",
    "    map(\n",
    "        lambda r : r[\"prefix\"],\n",
    "        index_sdf.select(\"prefix\").where(col(\"clients\") == 200).collect()\n",
    "    ))\\\n",
    "        .groupBy(\"prefix\")\\\n",
    "        .agg(*percentile_cols).cache()\n",
    "\n",
    "latency_3000_sdf = latency(spark,\n",
    "    map(\n",
    "        lambda r : r[\"prefix\"],\n",
    "        index_sdf.select(\"prefix\").where(col(\"clients\") == 3000).collect()\n",
    "    ))\\\n",
    "        .groupBy(\"prefix\")\\\n",
    "        .agg(*percentile_cols).cache()\n",
    "\n",
    "latency_overshoot10_200_sdf = latency(spark,\n",
    "    map(\n",
    "        lambda r : r[\"prefix\"],\n",
    "        index_overshoot10_sdf.select(\"prefix\").where(col(\"clients\") == 200).collect()\n",
    "    ))\\\n",
    "        .groupBy(\"prefix\")\\\n",
    "        .agg(*percentile_cols).cache()\n",
    "\n",
    "latency_overshoot10_3000_sdf = latency(spark,\n",
    "    map(\n",
    "        lambda r : r[\"prefix\"],\n",
    "        index_overshoot10_sdf.select(\"prefix\").where(col(\"clients\") == 3000).collect()\n",
    "    ))\\\n",
    "        .groupBy(\"prefix\")\\\n",
    "        .agg(*percentile_cols).cache()"
   ]
  },
  {
   "cell_type": "code",
   "execution_count": null,
   "metadata": {
    "execution": {
     "iopub.execute_input": "2021-12-11T00:37:07.089374Z",
     "iopub.status.busy": "2021-12-11T00:37:07.089103Z",
     "iopub.status.idle": "2021-12-11T00:37:09.349109Z",
     "shell.execute_reply": "2021-12-11T00:37:09.348336Z",
     "shell.execute_reply.started": "2021-12-11T00:37:07.089354Z"
    }
   },
   "outputs": [],
   "source": [
    "IGNORE_CACHE = False\n",
    "\n",
    "latency_200_df = from_cache_or_compute(\n",
    "    f'{PREFIX}/latency.parquet',\n",
    "    lambda: latency_200_sdf.toPandas().merge(index_df, on=\"prefix\")\\\n",
    "        .sort_values(\"jitter\", key=lambda k: k.astype('int')),\n",
    "    ignore_cache=IGNORE_CACHE,\n",
    ")\n",
    "\n",
    "latency_3000_df = from_cache_or_compute(\n",
    "    f'{PREFIX}/latency.parquet',\n",
    "    lambda: latency_3000_sdf.toPandas().merge(index_df, on=\"prefix\")\\\n",
    "        .sort_values(\"jitter\", key=lambda k: k.astype('int')),\n",
    "    ignore_cache=IGNORE_CACHE,\n",
    ")\n",
    "\n",
    "latency_overshoot10_200_df = from_cache_or_compute(\n",
    "    f'{PREFIX_OVERSHOOT10}/latency.parquet',\n",
    "    lambda: latency_overshoot10_200_sdf.toPandas().merge(index_overshoot10_df, on=\"prefix\")\\\n",
    "        .sort_values(\"jitter\", key=lambda k: k.astype('int')),\n",
    "    ignore_cache=IGNORE_CACHE,\n",
    ")\n",
    "\n",
    "latency_overshoot10_3000_df = from_cache_or_compute(\n",
    "    f'{PREFIX_OVERSHOOT10}/latency.parquet',\n",
    "    lambda: latency_overshoot10_3000_sdf.toPandas().merge(index_overshoot10_df, on=\"prefix\")\\\n",
    "        .sort_values(\"jitter\", key=lambda k: k.astype('int')),\n",
    "    ignore_cache=IGNORE_CACHE,\n",
    ")"
   ]
  },
  {
   "cell_type": "markdown",
   "metadata": {},
   "source": [
    "# Plot"
   ]
  },
  {
   "cell_type": "code",
   "execution_count": 68,
   "metadata": {
    "execution": {
     "iopub.execute_input": "2021-12-11T00:19:18.952333Z",
     "iopub.status.busy": "2021-12-11T00:19:18.952048Z",
     "iopub.status.idle": "2021-12-11T00:19:19.123772Z",
     "shell.execute_reply": "2021-12-11T00:19:19.122932Z",
     "shell.execute_reply.started": "2021-12-11T00:19:18.952314Z"
    }
   },
   "outputs": [
    {
     "data": {
      "image/png": "[encoded data removed]",
      "text/plain": [
       "<Figure size 576x360 with 2 Axes>"
      ]
     },
     "metadata": {
      "needs_background": "light"
     },
     "output_type": "display_data"
    }
   ],
   "source": [
    "_, ax = plt.subplots(1, 1, figsize=(8, 5))\n",
    "\n",
    "throughput_df.plot.bar(ax=ax, x=\"jitter\", y=\"throughput\", rot=0, fill=False, hatch='/')\n",
    "ax.set_ylabel(\"throughput (thousands txn/s)\")\n",
    "ax.set_xlabel(\"jitter (ms)\")\n",
    "ax.set_ylim((0, 60))\n",
    "ax.legend(loc=\"upper left\")\n",
    "ax2 = ax.twinx()\n",
    "\n",
    "latency_200_df = latency_df[latency_df['clients'] == 200]\n",
    "latency_3000_df = latency_df[latency_df['clients'] == 3000]\n",
    "\n",
    "# latency_200_df.plot(ax=ax2, x=\"jitter\", y=\"p50\", label='p50 latency', linestyle='dotted', marker='.', color=\"red\")\n",
    "latency_200_df.plot(ax=ax2, x=\"jitter\", y=\"p99\", label='p99 latency', marker='o', color=\"red\")\n",
    "# latency_3000_df.plot(ax=ax2, x=\"jitter\", y=\"p50\", label='p50 latency', linestyle='dotted', marker='x', color=\"blue\")\n",
    "latency_3000_df.plot(ax=ax2, x=\"jitter\", y=\"p99\", label='p99 latency (peak)', marker='x', color=\"blue\")\n",
    "ax2.set_ylabel(\"MH latency (ms)\")\n",
    "ax2.set_yscale('log')\n",
    "ax2.set_ylim((90, 50000))\n",
    "ax2.legend(loc=\"upper right\", ncol=1)\n",
    " \n",
    "plt.tight_layout()\n",
    "plt.savefig(\"output/jitter.pdf\")"
   ]
  },
  {
   "cell_type": "code",
   "execution_count": 69,
   "metadata": {},
   "outputs": [
    {
     "data": {
      "image/png": "[encoded data removed]",
      "text/plain": [
       "<Figure size 576x360 with 2 Axes>"
      ]
     },
     "metadata": {
      "needs_background": "light"
     },
     "output_type": "display_data"
    }
   ],
   "source": [
    "_, ax = plt.subplots(1, 1, figsize=(8, 5))\n",
    "\n",
    "throughput_overshoot10_df.plot.bar(ax=ax, x=\"jitter\", y=\"throughput\", rot=0, fill=False, hatch='/')\n",
    "ax.set_ylabel(\"throughput (txn/s)\")\n",
    "ax.set_xlabel(\"jitter (ms)\")\n",
    "ax.set_ylim((0, 60))\n",
    "ax.legend(loc=\"upper left\")\n",
    "ax2 = ax.twinx()\n",
    "\n",
    "latency_200_df = latency_overshoot10_df[latency_overshoot10_df['clients'] == 200]\n",
    "latency_3000_df = latency_overshoot10_df[latency_overshoot10_df['clients'] == 3000]\n",
    "\n",
    "# latency_200_df.plot(ax=ax2, x=\"jitter\", y=\"p50\", label='p50 latency', linestyle='dotted', marker='.', color=\"red\")\n",
    "latency_200_df.plot(ax=ax2, x=\"jitter\", y=\"p99\", label='p99 latency', marker='o', color=\"red\")\n",
    "# latency_3000_df.plot(ax=ax2, x=\"jitter\", y=\"p50\", label='p50 latency', linestyle='dotted', marker='x', color=\"blue\")\n",
    "latency_3000_df.plot(ax=ax2, x=\"jitter\", y=\"p99\", label='p99 latency (peak)', marker='x', color=\"blue\")\n",
    "ax2.set_ylabel(\"MH latency (ms)\")\n",
    "ax2.set_yscale('log')\n",
    "ax2.set_ylim((90, 50000))\n",
    "ax2.legend(loc=\"upper right\", ncol=1)\n",
    " \n",
    "plt.tight_layout()\n",
    "plt.savefig(\"output/jitter-overshoot10.pdf\")"
   ]
  },
  {
   "cell_type": "code",
   "execution_count": null,
   "metadata": {},
   "outputs": [],
   "source": []
  }
 ],
 "metadata": {
  "kernelspec": {
   "display_name": "Python 3",
   "language": "python",
   "name": "python3"
  },
  "language_info": {
   "codemirror_mode": {
    "name": "ipython",
    "version": 3
   },
   "file_extension": ".py",
   "mimetype": "text/x-python",
   "name": "python",
   "nbconvert_exporter": "python",
   "pygments_lexer": "ipython3",
   "version": "3.8.10"
  }
 },
 "nbformat": 4,
 "nbformat_minor": 4
}
